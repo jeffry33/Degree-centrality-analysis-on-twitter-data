{
  "nbformat": 4,
  "nbformat_minor": 0,
  "metadata": {
    "colab": {
      "name": "DataCrawling (1).ipynb",
      "provenance": [],
      "collapsed_sections": [],
      "toc_visible": true
    },
    "kernelspec": {
      "name": "python3",
      "display_name": "Python 3"
    }
  },
  "cells": [
    {
      "cell_type": "code",
      "metadata": {
        "id": "qttuQdFZ6DRJ"
      },
      "source": [
        "import pandas as pd\n",
        "import matplotlib.pyplot as plt\n",
        "import tweepy\n",
        "import numpy\n",
        "pd.set_option(\"display.max.columns\", None)"
      ],
      "execution_count": 27,
      "outputs": []
    },
    {
      "cell_type": "code",
      "metadata": {
        "id": "8kWGwo9lgAQA"
      },
      "source": [
        "# Dari twitter developer\n",
        "consumer_key = \"mVbCPRZy6BjESXP7NRmWx9DY3\" \n",
        "consumer_secret = \"PATinfNbKDK2aEzQHVrf0pKMfrBopqAC9NeRFGGi3oqx0DudcR\" \n",
        "access_token = \"1369785932677718019-M6N5JmTT44nBY8DhTXQSkzIDMchoSr\" \n",
        "access_token_secret = \"C80qH2MEkpX3O25bqjJAyalTKY0yDJtEDiNLH1DWPHfmZ\" \n"
      ],
      "execution_count": 28,
      "outputs": []
    },
    {
      "cell_type": "code",
      "metadata": {
        "id": "lmwZ43614unQ"
      },
      "source": [
        "# Autorisasi\n",
        "auth = tweepy.OAuthHandler(consumer_key, consumer_secret) \n",
        "auth.set_access_token(access_token, access_token_secret) \n",
        "               \n",
        "api = tweepy.API(auth, wait_on_rate_limit=True)\n",
        "# users = []"
      ],
      "execution_count": 29,
      "outputs": []
    },
    {
      "cell_type": "code",
      "metadata": {
        "id": "hRMEtidZB1GM"
      },
      "source": [
        "LOCATION = \"%s,%s,%s\" % (\"-6.173665\", \"106.826248\", \"9000km\")\n",
        "\n",
        "query1 = \"COVID-19\"\n",
        "query2 = \"VAKSIN\"\n",
        "\n",
        "cari = tweepy.Cursor(api.search, q=\"{}+AND+{}\".format(query1, query2), rpp=1000, geocode=LOCATION, include_entities=True)\n",
        "\n",
        "tweets = []\n",
        "for tweet in cari.items():\n",
        "    tweets.append(tweet)"
      ],
      "execution_count": 30,
      "outputs": []
    },
    {
      "cell_type": "code",
      "metadata": {
        "id": "k-1s20TdUOIE"
      },
      "source": [
        "ids = []\n",
        "texts = []\n",
        "user_ids = []\n",
        "user_screen_name = []\n",
        "in_reply_to_user_ids = []\n",
        "in_reply_to_screen_names = []\n",
        "user_mentionses = []\n",
        "created_ats = []\n",
        "\n",
        "for item in tweets:\n",
        "  ids.append(item.id)\n",
        "  texts.append(item.text)\n",
        "  user_ids.append(item.user.id)\n",
        "  user_screen_name.append(item.user.screen_name)\n",
        "  in_reply_to_user_ids.append(item.in_reply_to_user_id)\n",
        "  in_reply_to_screen_names.append(item.in_reply_to_screen_name)\n",
        "  user_mentionses.append(item.entities[\"user_mentions\"])\n",
        "  created_ats.append(item.created_at)\n",
        "\n",
        "ekspor = {}\n",
        "ekspor[\"ids\"] = ids\n",
        "ekspor[\"texts\"] = texts \n",
        "ekspor[\"user_ids\"] = user_ids \n",
        "ekspor[\"user_screen_name\"] = user_screen_name\n",
        "ekspor[\"in_reply_to_user_ids\"] = in_reply_to_user_ids \n",
        "ekspor[\"in_reply_to_screen_names\"] = in_reply_to_screen_names\n",
        "ekspor[\"user_mentionses\"] = user_mentionses \n",
        "ekspor[\"created_ats\"] = created_ats "
      ],
      "execution_count": 31,
      "outputs": []
    },
    {
      "cell_type": "code",
      "metadata": {
        "id": "jRGeJPvW0KFP",
        "colab": {
          "base_uri": "https://localhost:8080/",
          "height": 363
        },
        "outputId": "0ad25021-7d23-4bc5-aa5c-e9b05df50c21"
      },
      "source": [
        "df = pd.DataFrame(ekspor)\n",
        "df.head()"
      ],
      "execution_count": 32,
      "outputs": [
        {
          "output_type": "execute_result",
          "data": {
            "text/html": [
              "<div>\n",
              "<style scoped>\n",
              "    .dataframe tbody tr th:only-of-type {\n",
              "        vertical-align: middle;\n",
              "    }\n",
              "\n",
              "    .dataframe tbody tr th {\n",
              "        vertical-align: top;\n",
              "    }\n",
              "\n",
              "    .dataframe thead th {\n",
              "        text-align: right;\n",
              "    }\n",
              "</style>\n",
              "<table border=\"1\" class=\"dataframe\">\n",
              "  <thead>\n",
              "    <tr style=\"text-align: right;\">\n",
              "      <th></th>\n",
              "      <th>ids</th>\n",
              "      <th>texts</th>\n",
              "      <th>user_ids</th>\n",
              "      <th>user_screen_name</th>\n",
              "      <th>in_reply_to_user_ids</th>\n",
              "      <th>in_reply_to_screen_names</th>\n",
              "      <th>user_mentionses</th>\n",
              "      <th>created_ats</th>\n",
              "    </tr>\n",
              "  </thead>\n",
              "  <tbody>\n",
              "    <tr>\n",
              "      <th>0</th>\n",
              "      <td>1383061285248532483</td>\n",
              "      <td>@VIVAcoid Dari semua komen yg ada disini byk y...</td>\n",
              "      <td>1329769759554957312</td>\n",
              "      <td>Yuyung1234</td>\n",
              "      <td>4.173094e+07</td>\n",
              "      <td>VIVAcoid</td>\n",
              "      <td>[{'screen_name': 'VIVAcoid', 'name': 'VIVAcoid...</td>\n",
              "      <td>2021-04-16 14:14:41</td>\n",
              "    </tr>\n",
              "    <tr>\n",
              "      <th>1</th>\n",
              "      <td>1383053592391655427</td>\n",
              "      <td>@jokowi comments dong pak presiden vaksin sino...</td>\n",
              "      <td>3282154062</td>\n",
              "      <td>Soejonod</td>\n",
              "      <td>3.669872e+08</td>\n",
              "      <td>jokowi</td>\n",
              "      <td>[{'screen_name': 'jokowi', 'name': 'Joko Widod...</td>\n",
              "      <td>2021-04-16 13:44:06</td>\n",
              "    </tr>\n",
              "    <tr>\n",
              "      <th>2</th>\n",
              "      <td>1383003763485470722</td>\n",
              "      <td>@TirtoID Kok vaksin buatan Amerika di uji coba...</td>\n",
              "      <td>1382140802193793026</td>\n",
              "      <td>QueenSa92814764</td>\n",
              "      <td>4.187276e+09</td>\n",
              "      <td>TirtoID</td>\n",
              "      <td>[{'screen_name': 'TirtoID', 'name': 'tirtoid',...</td>\n",
              "      <td>2021-04-16 10:26:06</td>\n",
              "    </tr>\n",
              "    <tr>\n",
              "      <th>3</th>\n",
              "      <td>1382987458820730880</td>\n",
              "      <td>RT @artyunie76: Presiden @jokowi lawan pandemi...</td>\n",
              "      <td>71163516</td>\n",
              "      <td>besecks</td>\n",
              "      <td>NaN</td>\n",
              "      <td>None</td>\n",
              "      <td>[{'screen_name': 'artyunie76', 'name': '🕊️️્͜͡...</td>\n",
              "      <td>2021-04-16 09:21:19</td>\n",
              "    </tr>\n",
              "    <tr>\n",
              "      <th>4</th>\n",
              "      <td>1382980505809743875</td>\n",
              "      <td>RT @artyunie76: Presiden @jokowi lawan pandemi...</td>\n",
              "      <td>1206149554329899009</td>\n",
              "      <td>WidAdji</td>\n",
              "      <td>NaN</td>\n",
              "      <td>None</td>\n",
              "      <td>[{'screen_name': 'artyunie76', 'name': '🕊️️્͜͡...</td>\n",
              "      <td>2021-04-16 08:53:41</td>\n",
              "    </tr>\n",
              "  </tbody>\n",
              "</table>\n",
              "</div>"
            ],
            "text/plain": [
              "                   ids                                              texts  \\\n",
              "0  1383061285248532483  @VIVAcoid Dari semua komen yg ada disini byk y...   \n",
              "1  1383053592391655427  @jokowi comments dong pak presiden vaksin sino...   \n",
              "2  1383003763485470722  @TirtoID Kok vaksin buatan Amerika di uji coba...   \n",
              "3  1382987458820730880  RT @artyunie76: Presiden @jokowi lawan pandemi...   \n",
              "4  1382980505809743875  RT @artyunie76: Presiden @jokowi lawan pandemi...   \n",
              "\n",
              "              user_ids user_screen_name  in_reply_to_user_ids  \\\n",
              "0  1329769759554957312       Yuyung1234          4.173094e+07   \n",
              "1           3282154062         Soejonod          3.669872e+08   \n",
              "2  1382140802193793026  QueenSa92814764          4.187276e+09   \n",
              "3             71163516          besecks                   NaN   \n",
              "4  1206149554329899009          WidAdji                   NaN   \n",
              "\n",
              "  in_reply_to_screen_names                                    user_mentionses  \\\n",
              "0                 VIVAcoid  [{'screen_name': 'VIVAcoid', 'name': 'VIVAcoid...   \n",
              "1                   jokowi  [{'screen_name': 'jokowi', 'name': 'Joko Widod...   \n",
              "2                  TirtoID  [{'screen_name': 'TirtoID', 'name': 'tirtoid',...   \n",
              "3                     None  [{'screen_name': 'artyunie76', 'name': '🕊️️્͜͡...   \n",
              "4                     None  [{'screen_name': 'artyunie76', 'name': '🕊️️્͜͡...   \n",
              "\n",
              "          created_ats  \n",
              "0 2021-04-16 14:14:41  \n",
              "1 2021-04-16 13:44:06  \n",
              "2 2021-04-16 10:26:06  \n",
              "3 2021-04-16 09:21:19  \n",
              "4 2021-04-16 08:53:41  "
            ]
          },
          "metadata": {
            "tags": []
          },
          "execution_count": 32
        }
      ]
    },
    {
      "cell_type": "code",
      "metadata": {
        "id": "6At1x9ZO--tu"
      },
      "source": [
        "df.to_csv('HasilDataCrawling.csv')  "
      ],
      "execution_count": 33,
      "outputs": []
    }
  ]
}